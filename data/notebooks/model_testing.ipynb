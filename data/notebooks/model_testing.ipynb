{
 "cells": [
  {
   "cell_type": "code",
   "execution_count": 10,
   "id": "cee10156",
   "metadata": {},
   "outputs": [],
   "source": [
    "#load in the right libraries\n",
    "import os\n",
    "import sys\n",
    "import numpy as np\n",
    "import pandas as pd\n",
    "import joblib"
   ]
  },
  {
   "cell_type": "code",
   "execution_count": 11,
   "id": "44eb0d5a",
   "metadata": {},
   "outputs": [],
   "source": [
    "# now load in models using joblib\n",
    "\n",
    "if not os.path.exists(model_path):\n",
    "    raise FileNotFoundError(f\"Model file not found: {model_path}\")\n",
    "\n",
    "solar_model = joblib.load(model_path)\n"
   ]
  },
  {
   "cell_type": "code",
   "execution_count": 13,
   "id": "9acd94bb",
   "metadata": {},
   "outputs": [
    {
     "name": "stdout",
     "output_type": "stream",
     "text": [
      "       Feature   Importance\n",
      "0   feature_38  1102.284928\n",
      "1   feature_21   943.288964\n",
      "2   feature_73   837.864366\n",
      "3   feature_48   609.710300\n",
      "4   feature_51   513.449015\n",
      "5   feature_23   482.310643\n",
      "6   feature_43   469.901524\n",
      "7   feature_36   437.126001\n",
      "8    feature_8   413.232937\n",
      "9   feature_30   404.421042\n",
      "10  feature_11   301.092748\n",
      "11   feature_6   280.176144\n",
      "12  feature_41   276.201367\n",
      "13  feature_31   259.999485\n",
      "14  feature_20   243.447347\n",
      "15  feature_74   238.259776\n",
      "16  feature_28   236.336804\n",
      "17  feature_60   235.660835\n",
      "18   feature_5   234.082796\n",
      "19  feature_33   232.048101\n"
     ]
    }
   ],
   "source": [
    "#show  20 most important features\n",
    "def show_important_features(model, n_features=20, feature_names=None):\n",
    "    if hasattr(model, 'feature_importances_'):\n",
    "        feature_importances = model.feature_importances_\n",
    "    elif hasattr(model, 'coef_'):\n",
    "        # Handle both 1D and 2D coef_\n",
    "        coef = model.coef_\n",
    "        if coef.ndim == 1:\n",
    "            feature_importances = np.abs(coef)\n",
    "        else:\n",
    "            feature_importances = np.abs(coef[0])\n",
    "    else:\n",
    "        raise ValueError(\"Model does not have feature importances or coefficients.\")\n",
    "\n",
    "    indices = np.argsort(feature_importances)[-n_features:][::-1]\n",
    "    if feature_names is not None:\n",
    "        features = np.array(feature_names)[indices]\n",
    "    elif hasattr(model, 'feature_names_in_'):\n",
    "        features = np.array(model.feature_names_in_)[indices]\n",
    "    else:\n",
    "        features = [f'feature_{i}' for i in indices]\n",
    "\n",
    "    important_features = pd.DataFrame({\n",
    "        'Feature': features,\n",
    "        'Importance': feature_importances[indices]\n",
    "    })\n",
    "    \n",
    "    print(important_features)\n",
    "# Call the function to show important features from solar model workspace variable solar_model\n",
    "show_important_features(solar_model, n_features=20)\n"
   ]
  },
  {
   "cell_type": "code",
   "execution_count": null,
   "id": "d4a1902f",
   "metadata": {},
   "outputs": [],
   "source": [
    "#now in order to make current predictions, we need to script the data pipeline"
   ]
  }
 ],
 "metadata": {
  "kernelspec": {
   "display_name": "cs444",
   "language": "python",
   "name": "python3"
  },
  "language_info": {
   "codemirror_mode": {
    "name": "ipython",
    "version": 3
   },
   "file_extension": ".py",
   "mimetype": "text/x-python",
   "name": "python",
   "nbconvert_exporter": "python",
   "pygments_lexer": "ipython3",
   "version": "3.10.16"
  }
 },
 "nbformat": 4,
 "nbformat_minor": 5
}
